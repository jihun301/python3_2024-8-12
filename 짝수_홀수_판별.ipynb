{
  "nbformat": 4,
  "nbformat_minor": 0,
  "metadata": {
    "colab": {
      "provenance": [],
      "authorship_tag": "ABX9TyPyUF0KJAhN4B6dW7gc27ZU",
      "include_colab_link": true
    },
    "kernelspec": {
      "name": "python3",
      "display_name": "Python 3"
    },
    "language_info": {
      "name": "python"
    }
  },
  "cells": [
    {
      "cell_type": "markdown",
      "metadata": {
        "id": "view-in-github",
        "colab_type": "text"
      },
      "source": [
        "<a href=\"https://colab.research.google.com/github/jihun301/python3_2024-8-12/blob/main/%EC%A7%9D%EC%88%98_%ED%99%80%EC%88%98_%ED%8C%90%EB%B3%84.ipynb\" target=\"_parent\"><img src=\"https://colab.research.google.com/assets/colab-badge.svg\" alt=\"Open In Colab\"/></a>"
      ]
    },
    {
      "cell_type": "markdown",
      "source": [
        "짝수 홀수 판별"
      ],
      "metadata": {
        "id": "Ms4ZiJzeLsqr"
      }
    },
    {
      "cell_type": "code",
      "source": [
        "# 사용자로부터 숫자를 입력받습니다.\n",
        "number = int(input(\"숫자를 입력하세요: \"))\n",
        "\n",
        "# 숫자가 짝수인지 홀수인지 판별합니다.\n",
        "if number % 2 == 0:\n",
        "    print(f\"{number}는 짝수입니다.\")\n",
        "else:\n",
        "    print(f\"{number}는 홀수입니다.\")\n"
      ],
      "metadata": {
        "colab": {
          "base_uri": "https://localhost:8080/"
        },
        "id": "nIgbbRmhLtkr",
        "outputId": "6c960ba6-3f5d-43a9-b5de-336b6551baa6"
      },
      "execution_count": 1,
      "outputs": [
        {
          "output_type": "stream",
          "name": "stdout",
          "text": [
            "숫자를 입력하세요: 6\n",
            "6는 짝수입니다.\n"
          ]
        }
      ]
    }
  ]
}